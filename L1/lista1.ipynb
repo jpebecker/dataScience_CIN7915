{
  "nbformat": 4,
  "nbformat_minor": 0,
  "metadata": {
    "colab": {
      "provenance": []
    },
    "kernelspec": {
      "name": "python3",
      "display_name": "Python 3"
    },
    "language_info": {
      "name": "python"
    }
  },
  "cells": [
    {
      "cell_type": "markdown",
      "source": [
        "Questões:\n",
        "1. Defina com suas palavras o que Data Science e dê um exemplo de problema real\n",
        "baseado no material disponibilizado no AVA e na Bibliografia.\n",
        "**Data science é a área de estudo dos dados, seja eles estruturados ou não, envolvendo a transformação e interpretação deles com objetivo de formar um novo significado. Utiliza metodologias de transformação de dados para conseguir extrair significado de grande volume de dados.**\n",
        "2. Selecione um dataset dos arquivos disponibilizados no AVA e realize as atividades.\n",
        "**Global Cancer Patients 2015-2024**\n",
        "\n",
        "a. Defina um problema a ser analisado conforme o dataset escolhido.\n",
        "\n",
        "**Relação de Casos Brasil x Mundo, análise de padrões**\n",
        "\n",
        "b. Selecione 2 variáveis e calcule o total, a média, o desvio quadrático,a a variância\n",
        "e o desvio padrão.\n",
        "\n",
        "c. Faça o gráfico dos resultados encontrados.\n",
        "3. Faça uma resumo crítico da tarefa realizada"
      ],
      "metadata": {
        "id": "Sm9T2cZScfSo"
      }
    },
    {
      "cell_type": "code",
      "execution_count": null,
      "metadata": {
        "id": "ZSoSsT1_cBn9"
      },
      "outputs": [],
      "source": [
        "#converte o arquivo csv em um dataframe\n",
        "import pandas as pd\n",
        "data = pd.read_csv('global_cancer_patients.csv')"
      ]
    },
    {
      "cell_type": "code",
      "source": [
        "#lê as primeiras 5 linhas - útil verificar a estrutura geral\n",
        "data.head()"
      ],
      "metadata": {
        "id": "UbbWU0S1dnDW"
      },
      "execution_count": null,
      "outputs": []
    },
    {
      "cell_type": "code",
      "source": [
        "#retorna o ID do paciente que tiver alguma info NaN\n",
        "null_ids = data[data.isna().any(axis=1)]['Patient_ID']\n",
        "print(null_ids)"
      ],
      "metadata": {
        "id": "7bxDAhGNdrBH"
      },
      "execution_count": null,
      "outputs": []
    },
    {
      "cell_type": "code",
      "source": [
        "#faz a seleçao de resultados somente do Brasil\n",
        "Br_Data = data[data['Country_Region'] == 'Brazil']\n",
        "print(f'{len(Br_Data)} pacientes do Brasil x {len(data)-len(Br_Data)} pacientes no resto do mundo')\n",
        "print(f'Amostra equivalente a {round((len(Br_Data)/len(data))*100)}% dos dados')"
      ],
      "metadata": {
        "id": "RhtoCpttesBX"
      },
      "execution_count": null,
      "outputs": []
    },
    {
      "cell_type": "code",
      "source": [
        "#mais uma vez, é interessante analisar somente a estrutura para selecionar variáveis\n",
        "print(Br_Data.columns)\n",
        "\n",
        "# age->idade\n",
        "# gender->genero print(data['Gender'].unique())\n",
        "# year->ano de diagnostico\n",
        "# cancer_type -> tipo de cancer print(data['cancer_type'].unique())\n",
        "# cancer_stage -> estágio do cancer print(data['cancer_stage'].unique())"
      ],
      "metadata": {
        "id": "nOWq95S-ieQU"
      },
      "execution_count": null,
      "outputs": []
    },
    {
      "cell_type": "code",
      "source": [
        "import matplotlib.pyplot as mplot\n",
        "#proporçao de generos (só para verificar se está uniforme)\n",
        "mCount = 0\n",
        "fCount = 0\n",
        "#print(Br_Data['Gender'].value_counts())\n",
        "\n",
        "for _, p in Br_Data.iterrows():\n",
        "    if p['Gender'] == 'Male':\n",
        "        mCount += 1\n",
        "    elif p['Gender'] == 'Female':\n",
        "        fCount += 1\n",
        "print(f'Homens: {mCount} - Mulheres: {fCount} - Other: {-mCount-fCount+len(Br_Data)}')\n",
        "\n",
        "#Br_Data['Cancer_Type'].value_counts()\n",
        "#Br_Data['Cancer_Type'].max()\n",
        "#Br_Data['Cancer_Type'].min()\n",
        "\n",
        "m_data = Br_Data[Br_Data['Gender'] == 'Male']['Cancer_Type'].value_counts()\n",
        "if not m_data.empty:\n",
        "    m_cancer = m_data.idxmax()\n",
        "    qtd_male = m_data.max()\n",
        "    print(f'O tipo de câncer mais comum entre os Homens é: {m_cancer} com {qtd_male} casos.')\n",
        "else:\n",
        "    print('Não há dados de câncer para os Homens.')\n",
        "\n",
        "f_data = Br_Data[Br_Data['Gender'] == 'Female']['Cancer_Type'].value_counts()\n",
        "if not f_data.empty:\n",
        "    f_cancer = f_data.idxmax()\n",
        "    qtd_female = f_data.max()\n",
        "    print(f'O tipo de câncer mais comum entre as Mulheres é: {f_cancer} com {qtd_female} casos.')\n",
        "else:\n",
        "    print('Não há dados de câncer para as Mulheres.')\n",
        "\n",
        "other_data = Br_Data[Br_Data['Gender'] == 'Other']['Cancer_Type'].value_counts()\n",
        "if not other_data.empty:\n",
        "    other_cancer = other_data.idxmax()\n",
        "    qtd_other = other_data.max()\n",
        "    print(f'O tipo de câncer mais comum entre Outros Gêneros é: {other_cancer} com {qtd_other} casos.')\n",
        "else:\n",
        "    print('Não há dados de câncer para os Others.')\n",
        "\n",
        "#Grafico teste - analise de distribuicao da amostra\n",
        "cancer_counts = Br_Data['Cancer_Type'].value_counts()\n",
        "\n",
        "#mostra a quantidade (frequencia relativa) dos tipos de cancer na amostra\n",
        "mplot.figure(figsize=(5, 5))\n",
        "mplot.pie(cancer_counts, labels=cancer_counts.index, autopct='%1.1f%%', startangle=90)\n",
        "mplot.title('Distribuição dos Tipos de Câncer no Brasil')\n",
        "mplot.axis('equal')\n",
        "mplot.tight_layout()\n",
        "mplot.show()"
      ],
      "metadata": {
        "id": "sqxX4FtUkBvc"
      },
      "execution_count": null,
      "outputs": []
    },
    {
      "cell_type": "code",
      "source": [
        "#transformaçao e interpretacao das idades\n",
        "print(f'A maior idade nos dados é {Br_Data[\"Age\"].max()} anos')\n",
        "print(f'A menor idade nos dados é {Br_Data[\"Age\"].min()} anos')\n",
        "# Calculando a moda(valores mais repetidos) das idades\n",
        "moda = Br_Data['Age'].mode()\n",
        "print(f'A AMPLITUDE das idades é de {Br_Data[\"Age\"].max() - Br_Data[\"Age\"].min()} anos')\n",
        "print(f'A MODA das idades vale {moda.values[0]} anos\\n')\n",
        "\n",
        "print(f'A MÉDIA das idades vale (𝜇):{round(Br_Data[\"Age\"].mean(), 2)} anos')        # média das idades\n",
        "print(f'A MEDIANA das idades vale: {round(Br_Data[\"Age\"].median(), 2)} anos')   # mediana das idades\n",
        "print(f'O DESVIO PADRÃO das idades vale (s): {round(Br_Data[\"Age\"].std(), 2)} anos') # desvio padrão das idades\n",
        "print(f'A VARIÂNCIA das idades vale (𝑠²): {round(Br_Data[\"Age\"].var(), 2)}')     # variância das idades\n",
        "\n",
        "\n",
        "#grafico dos dados acima\n",
        "mplot.figure(figsize=(8, 4))\n",
        "mplot.hist(Br_Data['Age'], bins=15, color='skyblue', edgecolor='black')\n",
        "#marcaçoes no grafico\n",
        "mplot.axvline(Br_Data['Age'].mean(), color='red', linestyle='dashed', linewidth=1.5, label=f'Média (μ): {Br_Data[\"Age\"].mean():.2f}')\n",
        "mplot.axvline(Br_Data['Age'].median(), color='green', linestyle='dashed', linewidth=1.5, label=f'Mediana: {Br_Data[\"Age\"].median():.1f}')\n",
        "mplot.axvline(Br_Data['Age'].mode()[0], color='purple', linestyle='dashed', linewidth=1.5, label=f'Moda: {Br_Data[\"Age\"].mode()[0]}')\n",
        "#config das labels\n",
        "mplot.title('Distribuição das Idades')\n",
        "mplot.xlabel('Idade')\n",
        "mplot.ylabel('Número de Pacientes')\n",
        "mplot.legend()\n",
        "mplot.grid(True)\n",
        "mplot.tight_layout()\n",
        "mplot.show()"
      ],
      "metadata": {
        "id": "BkHnAyxSrwcQ"
      },
      "execution_count": null,
      "outputs": []
    },
    {
      "cell_type": "code",
      "source": [
        "# Tratamento dos dados de custo com formataçao textual pros valores impressos\n",
        "max_cost = Br_Data[\"Treatment_Cost_USD\"].max()\n",
        "print(f'O maior custo nos dados é de ${max_cost:,.2f}')\n",
        "min_cost = Br_Data[\"Treatment_Cost_USD\"].min()\n",
        "print(f'O menor custo nos dados é de ${min_cost:,.2f}')\n",
        "moda = Br_Data['Treatment_Cost_USD'].mode()\n",
        "print(f'A MODA dos valores vale ${moda.values[0]:,.2f}')\n",
        "amplitude = max_cost - min_cost\n",
        "print(f'A AMPLITUDE entre os valores de tratamento é de ${amplitude:,.2f}\\n')\n",
        "\n",
        "media = Br_Data[\"Treatment_Cost_USD\"].mean()\n",
        "print(f'A MÉDIA dos valores vale (𝜇): ${media:,.2f}')\n",
        "mediana = Br_Data[\"Treatment_Cost_USD\"].median()\n",
        "print(f'A MEDIANA dos valores vale: ${mediana:,.2f}')\n",
        "desv = Br_Data[\"Treatment_Cost_USD\"].std()\n",
        "print(f'O DESVIO PADRÃO dos valores vale (s): ${desv:,.2f}')\n",
        "variancia = Br_Data[\"Treatment_Cost_USD\"].var()\n",
        "print(f'A VARIÂNCIA dos valores vale (𝑠²): ${variancia:,.2f}')\n",
        "\n",
        "#grafico de densidade (expectativa) sobre os valores\n",
        "import seaborn\n",
        "mplot.figure(figsize=(6, 3))\n",
        "seaborn.kdeplot(Br_Data['Treatment_Cost_USD'], fill=True, color='darkgreen')\n",
        "mplot.title('Curva de Densidade dos Custos de Tratamento')\n",
        "mplot.xlabel('Custo do Tratamento ($)')\n",
        "mplot.ylabel('Densidade')\n",
        "mplot.grid(True)\n",
        "mplot.tight_layout()\n",
        "mplot.show()"
      ],
      "metadata": {
        "id": "acZL_d90zqYM"
      },
      "execution_count": null,
      "outputs": []
    },
    {
      "cell_type": "markdown",
      "source": [
        "É possível afirmar que a amostra está bem distribuída entre os tipos de câncer e gêneros, sem grandes discrepâncias entre homens e mulheres. A diversidade de tipos de câncer é evidente, mas não há um tipo único predominante na amostra.\n",
        "\n",
        "As idades variam com uma amplitude de 69 anos. A média das idades é de 54,27 anos, enquanto a mediana é de 54 anos, indicando uma distribuição equilibrada. O desvio padrão de 20,12 anos sugere uma dispersão moderada.\n",
        "\n",
        "O custo de tratamento varia bastante, com uma amplitude dos custos entre $94.969$. Enquanto que a média dos custos é de $52.540$ e a mediana é de $52.392$. O desvio padrão de $27.551$ mostra que há uma grande variação entre os custos.\n",
        "\n",
        "A amostra revela uma grande diversidade de custos e idades, o que sugere uma variação significativa nos tratamentos aplicados, dependendo do tipo de câncer e do estágio da doença.\n",
        "\n",
        "Portanto,a amostra é bem representativa em termos de gêneros e tipos de câncer, com uma ampla gama de idades e custos de tratamento variados. Os valores de custo e idade apresentam uma dispersão considerável, refletindo a complexidade e a diversidade dos tratamentos de câncer no território."
      ],
      "metadata": {
        "id": "Dq4gIrcGALL1"
      }
    }
  ]
}